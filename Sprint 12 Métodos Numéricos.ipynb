{
 "cells": [
  {
   "cell_type": "markdown",
   "metadata": {},
   "source": [
    "¡ Hola Jorge! Como te va?\n",
    "\n",
    "Mi nombre es Facundo Lozano! Ya he tenido el agrado de revisar otros proyectos tuyos, nuevamente seré tu revisor en este proyecto.\n",
    "\n",
    "Como siempre, a continuación un poco sobre la modalidad de revisión que usaremos:\n",
    "\n",
    "Cuando enccuentro un error por primera vez, simplemente lo señalaré, te dejaré encontrarlo y arreglarlo tú cuenta. Además, a lo largo del texto iré haciendo algunas observaciones sobre mejora en tu código y también haré comentarios sobre tus percepciones sobre el tema. Pero si aún no puedes realizar esta tarea, te daré una pista más precisa en la próxima iteración y también algunos ejemplos prácticos. Estaré abierto a comentarios y discusiones sobre el tema.\n",
    "\n",
    "Encontrará mis comentarios a continuación: no los mueva, modifique ni elimine.\n",
    "\n",
    "Puedes encontrar mis comentarios en cuadros verdes, amarillos o rojos como este:\n",
    "\n",
    "\n",
    "<div class=\"alert alert-block alert-success\">\n",
    "<b>Comentario del revisor.</b> <a class=\"tocSkip\"></a>\n",
    "\n",
    "Exito. Todo se ha hecho de forma exitosa.\n",
    "</div>\n",
    "\n",
    "<div class=\"alert alert-block alert-warning\">\n",
    "<b>Comentario del revisor.</b> <a class=\"tocSkip\"></a>\n",
    "\n",
    "Observación. Algunas recomendaciones.\n",
    "</div>\n",
    "\n",
    "<div class=\"alert alert-block alert-danger\">\n",
    "\n",
    "<b>Comentario del revisor.</b> <a class=\"tocSkip\"></a>\n",
    "\n",
    "Necesita arreglos. Este apartado necesita algunas correcciones. El trabajo no puede ser aceptado con comentarios rojos. \n",
    "</div>\n",
    "\n",
    "Puedes responder utilizando esto:\n",
    "\n",
    "<div class=\"alert alert-block alert-info\">\n",
    "<b>Respuesta de estudiante.</b> <a class=\"tocSkip\"></a>\n",
    "</div>"
   ]
  },
  {
   "cell_type": "markdown",
   "metadata": {},
   "source": [
    "# Rusty Bargain \n",
    "\n",
    "El servicio de venta de autos usados Rusty Bargain está desarrollando una aplicación para atraer nuevos clientes. Gracias a esa app, puedes averiguar rápidamente el valor de mercado de tu coche. Tienes acceso al historial: especificaciones técnicas, versiones de equipamiento y precios. Tienes que crear un modelo que determine el valor de mercado.\n",
    "\n",
    "# Tabla de contenido\n",
    "\n",
    "\n",
    "1. [Introducción](#Introducción)\n",
    "\n",
    "    1.1 [Objetivo general](#Objetivo-general)\n",
    "    \n",
    "    1.2 [Objetivos particulares](#Objetivos-particulares)\n",
    "    \n",
    "    \n",
    "2. [Descripción de los datos](#Descripción-de-los-datos)\n",
    "\n",
    "    2.1 [Datos utilizados como características](#Datos-utilizados-como-características)\n",
    "    \n",
    "    2.2 [Datos utilizados como objetivo](#Datos-utilizados-como-objetivo)\n",
    "\n",
    "\n",
    "3. [Preprocesamiento de datos](#Preprocesamiento-de-datos)\n",
    "\n",
    "    3.1 [Limpieza de datos](#Limpieza-de-datos)\n",
    "    \n",
    "    3.2 [Preparación de datos](#Preparación-de-datos)\n",
    "\n",
    "\n",
    "4. [Entrenamiento del modelo](#Entrenamiento-del-modelo)\n",
    "\n",
    "    4.1 [Entrenamiento con modelo de regresión lineal](#Entrenamiento-con-modelo-de-regresión-lineal)\n",
    "    \n",
    "    4.2 [Entrenamiento con regresión lineal con descenso de gradiente estocástico](#Entrenamiento-con-regresión-lineal-con-descenso-de-gradiente-estocástico)\n",
    "    \n",
    "    4.3 [Entrenamiento de modelo mediante LightGBM](#Entrenamiento-de-modelo-mediante-LightGBM)\n",
    "\n",
    "\n",
    "5. [Análisis del modelo](#Análisis-del-modelo)\n",
    "\n",
    "    5.1 [Analizando pruebas con el modelo de regresión lineal SGDL](#Analizando-pruebas-con-el-modelo-de-regresión-lineal-SGDL)\n",
    "    \n",
    "    5.2 [Analizando pruebas con el modelo de regresión lineal GBDT](#Analizando-pruebas-con-el-modelo-de-regresión-lineal-GBDT)  \n",
    "    \n",
    "    \n",
    "6. [Conclusión](#Conclusión)\n",
    "\n",
    "\n",
    "7. [Lista de control](#Lista-de-control)"
   ]
  },
  {
   "cell_type": "markdown",
   "metadata": {},
   "source": [
    "<div class=\"alert alert-block alert-success\">\n",
    "<b>Review General. (Iteración 1) </b> <a class=\"tocSkip\"></a>\n",
    "\n",
    "Jorge, como siempre, me tomo este tiempo al inicio del proyecto para comentar mis apreciaciones generales de esta primera iteración de la entrega. \n",
    "\n",
    "Siempre me gusta comenzar dando la bienvenida al mundo de los datos a los estudiantes, te deseo lo mejor y espero que consigas lograr tus objetivos. Personalmente siempre me gusta brindar el siguiente consejo, \"Está bien equivocarse, es normal y es lo mejor que te puede pasar. Aprendemos de los errores y eso te hará mejor programando ya que podrás descubrir cosas a medida que avances y son estas cosas las que te darán esa experiencia para ser mejor como Data Scientist\"\n",
    "    \n",
    "Ahora si yendo a esta notebook.  Jorge, lo he dicho al final del proyecto pero lo resalto aquí nuevamente, tu proyecto está muy bien resuelto, resalta capacidad y comprensión de todas las herramientas, como a la vez esta ordenado y es sencillo de seguir junto a agregados fantasticos, felictiaciones!\n",
    "\n",
    "Este proyecto está en condiciones de ser aprobado! Éxitos dentro de tu camino en el mundo de los datos!\n",
    "\n",
    "Saludos Jorge!"
   ]
  },
  {
   "cell_type": "markdown",
   "metadata": {},
   "source": [
    "## Introducción\n",
    "\n",
    "### Objetivo general (Rusty Bargain)\n",
    "\n",
    "- Desarrollar un modelo de predicción para evaluar el valor en el mercado sobre las característcias del coche de cualquier cliente usuario para la nueva app de la empresa.\n",
    "\n",
    "### Objetivos particulares(Rusty Bargain)\n",
    "\n",
    "- Que el modelo cumpla con una alta calidad de la predicción.\n",
    "- Obtener una buena velocidad en la predicción.\n",
    "- Que el tiempo requerido para el entrenamiento sea el menor posible.\n",
    "\n"
   ]
  },
  {
   "cell_type": "markdown",
   "metadata": {},
   "source": [
    "### Instalar lo que falte."
   ]
  },
  {
   "cell_type": "code",
   "execution_count": null,
   "metadata": {
    "scrolled": true
   },
   "outputs": [],
   "source": [
    "# instalar librerías que se van a utiliza\n",
    "!pip install lightgbm"
   ]
  },
  {
   "cell_type": "markdown",
   "metadata": {},
   "source": [
    "### importar librerias que se van a utilizar"
   ]
  },
  {
   "cell_type": "code",
   "execution_count": null,
   "metadata": {},
   "outputs": [],
   "source": [
    "import pandas as pd\n",
    "import numpy as np\n",
    "import matplotlib.pyplot as plt\n",
    "import seaborn as sns\n",
    "\n",
    "## para la imputación de valores ausentes\n",
    "#from sklearn.impute import SimpleImputer\n",
    "\n",
    "## para la estandarización de datos\n",
    "from sklearn.preprocessing import StandardScaler\n",
    "\n",
    "## para la división y subconjunto de datos (train y test)\n",
    "from sklearn.model_selection import train_test_split\n",
    "from sklearn.model_selection import GridSearchCV\n",
    "## para importar métricas de evaluación\n",
    "from sklearn.metrics import make_scorer, r2_score, mean_squared_error\n",
    "\n",
    "## para medir el tiempo que tarda en ejecutarse un proceso\n",
    "import time\n",
    "\n",
    "## para hacer modelos de aprendizaje GBDT\n",
    "import lightgbm as lgb\n",
    "\n",
    "## para crear modelo de regresión lineal\n",
    "from sklearn.linear_model import LinearRegression\n",
    "from sklearn.linear_model import SGDRegressor\n",
    "## para graficar\n",
    "import matplotlib.pyplot as plt"
   ]
  },
  {
   "cell_type": "markdown",
   "metadata": {},
   "source": [
    "### importar la base de datos que se va a utilizar\n"
   ]
  },
  {
   "cell_type": "code",
   "execution_count": null,
   "metadata": {},
   "outputs": [],
   "source": [
    "try:\n",
    "    df = pd.read_csv('/datasets/car_data.csv')\n",
    "except:\n",
    "    df = pd.read_csv('car_data.csv')"
   ]
  },
  {
   "cell_type": "code",
   "execution_count": null,
   "metadata": {
    "scrolled": false
   },
   "outputs": [],
   "source": [
    "print(df.info())"
   ]
  },
  {
   "cell_type": "code",
   "execution_count": null,
   "metadata": {
    "scrolled": false
   },
   "outputs": [],
   "source": [
    "df.head()"
   ]
  },
  {
   "cell_type": "code",
   "execution_count": null,
   "metadata": {
    "scrolled": false
   },
   "outputs": [],
   "source": [
    "df.describe()\n"
   ]
  },
  {
   "cell_type": "markdown",
   "metadata": {},
   "source": [
    "<div class=\"alert alert-block alert-success\">\n",
    "\n",
    "<b>Comentario del revisor. (Iteración 1)</b> <a class=\"tocSkip\"></a>\n",
    "    \n",
    "Excelente Jorge, hasta el momento hemos cargado correctamente los datos separandolos de las importaciones para mitigar posibles errores, a la vez has implementado métodos para visualizar y comprender la composición de nuestros datos. Bien hecho!"
   ]
  },
  {
   "cell_type": "markdown",
   "metadata": {},
   "source": [
    "### Descripcion de las Columnas "
   ]
  },
  {
   "cell_type": "markdown",
   "metadata": {},
   "source": [
    "- **DateCrawled** — *fecha en la que se descargó el perfil de la base de datos*\n",
    "-  **VehicleType** — *tipo de carrocería del vehículo*\n",
    "- **RegistrationYear** — *año de matriculación del vehículo*\n",
    "- **Gearbox** — *tipo de caja de cambios*\n",
    "- **Power** — *potencia (CV)*\n",
    "- **Model** — *modelo del vehículo*\n",
    "- **Mileage** — *kilometraje (medido en km de acuerdo con las especificidades regionales del conjunto de datos)*\n",
    "- **RegistrationMonth** — *mes de matriculación del vehículo*\n",
    "- **FuelType** — *tipo de combustible*\n",
    "- **Brand** — *marca del vehículo*\n",
    "- **NotRepaired** — *vehículo con o sin reparación*\n",
    "- **DateCreated** — *fecha de creación del perfil*\n",
    "- **NumberOfPictures** — *número de fotos del vehículo*\n",
    "- **PostalCode** — *código postal del propietario del perfil (usuario)*\n",
    "- **LastSeen** — *fecha de la última vez que el usuario estuvo activo*"
   ]
  },
  {
   "cell_type": "markdown",
   "metadata": {},
   "source": [
    "### Tipo de moneda"
   ]
  },
  {
   "cell_type": "markdown",
   "metadata": {},
   "source": [
    "- **Price** — *precio (en euros)*"
   ]
  },
  {
   "cell_type": "markdown",
   "metadata": {},
   "source": [
    "## Preparación de datos"
   ]
  },
  {
   "cell_type": "markdown",
   "metadata": {},
   "source": [
    "### Limpieza de datos\n",
    "Para optimizar el análisis y garantizar mayor claridad en los resultados, hemos decidido reducir el volumen de datos eliminando algunas columnas que, por razones lógicas, no serán relevantes para nuestros objetivos."
   ]
  },
  {
   "cell_type": "code",
   "execution_count": null,
   "metadata": {},
   "outputs": [],
   "source": [
    "# eliminando columnas de poco valor para el entrenamiento del modelo\n",
    "low_value_features = ['DateCrawled','RegistrationMonth','DateCreated','NumberOfPictures','PostalCode','LastSeen']\n",
    "df.drop(low_value_features, axis=1, inplace=True)"
   ]
  },
  {
   "cell_type": "code",
   "execution_count": null,
   "metadata": {},
   "outputs": [],
   "source": [
    "# aplicando el formato \"sneake_case\" a los nombres de las columnas\n",
    "rename_columns = {\n",
    "    'Price' : 'price',\n",
    "    'VehicleType' : 'vehicle_type',\n",
    "    'RegistrationYear' : 'registration_year',\n",
    "    'Gearbox' : 'gearbox',\n",
    "    'Power' : 'power',\n",
    "    'Model' : 'model',\n",
    "    'Mileage' : 'mileage',\n",
    "    'FuelType' : 'fuel_type',\n",
    "    'Brand' : 'brand',\n",
    "    'NotRepaired' : 'not_repaired'\n",
    "}\n",
    "df.rename(columns=rename_columns, inplace=True)"
   ]
  },
  {
   "cell_type": "code",
   "execution_count": null,
   "metadata": {
    "scrolled": true
   },
   "outputs": [],
   "source": [
    "df.info()"
   ]
  },
  {
   "cell_type": "markdown",
   "metadata": {},
   "source": [
    "Se observa que la tipografía en cada uno de los datos es la correcta por lo que no es necesario hacer correcciones de carácter tipográfico."
   ]
  },
  {
   "cell_type": "code",
   "execution_count": null,
   "metadata": {
    "scrolled": true
   },
   "outputs": [],
   "source": [
    "# calculo de porcentaje de pérdida en caso de eliminar los valores ausentes\n",
    "df_sinvaloresnulos = (df.dropna().shape[0])/(df.shape[0])\n",
    "print(f'La cantidad de observaciones que quedan después de eliminar los valores ausentes es de {df_sinvaloresnulos :.1%}.')"
   ]
  },
  {
   "cell_type": "markdown",
   "metadata": {},
   "source": [
    "<div class=\"alert alert-block alert-success\">\n",
    "\n",
    "<b>Comentario del revisor. (Iteración 1)</b> <a class=\"tocSkip\"></a>\n",
    "    \n",
    "Un gran avance! Excelente decisión por un lado la de eliminar features que no aportan valor al proyecto, por normalizar los nombres de las features para ser más ordenados y por ver cuanto representa el quitar aquellos valores ausentes en el proyecto, impreisonante!"
   ]
  },
  {
   "cell_type": "markdown",
   "metadata": {},
   "source": [
    "Dado el alto nivel de pérdida de datos que se podría experimentar, adoptaremos la estrategia de imputar los valores ausentes. Aunque esto podría introducir un pequeño sesgo respecto a los valores reales, preservar la mayor cantidad de información posible permitirá obtener mejores predicciones al entrenar nuestros modelos."
   ]
  },
  {
   "cell_type": "code",
   "execution_count": null,
   "metadata": {
    "scrolled": true
   },
   "outputs": [],
   "source": [
    "# observar las estadísticas primarias de las columnas con valores cuantitativos\n",
    "df.describe()"
   ]
  },
  {
   "cell_type": "code",
   "execution_count": null,
   "metadata": {
    "scrolled": true
   },
   "outputs": [],
   "source": [
    "# Configura el estilo de Seaborn para mejorar la estética\n",
    "sns.set(style=\"whitegrid\")\n",
    "\n",
    "plt.figure(figsize=(9,9))\n",
    "\n",
    "# Gráfica 1: Diagrama de caja para 'power'\n",
    "plt.subplot(2, 1, 1)\n",
    "sns.boxplot(data=df, y='power', color='lightblue')\n",
    "plt.title('Distribución de Power', fontsize=14)\n",
    "\n",
    "# Gráfica 2: Diagrama de caja para 'registration_year'\n",
    "plt.subplot(2, 1, 2)\n",
    "sns.boxplot(data=df, y='registration_year', color='lightgreen')\n",
    "plt.title('Distribución de Registration Year', fontsize=14)\n",
    "\n",
    "plt.tight_layout()  # Ajusta el espacio entre las gráficas\n",
    "plt.show()"
   ]
  },
  {
   "cell_type": "markdown",
   "metadata": {},
   "source": [
    "Existen muchos valores atípicos por lo cual se procederá a eliminarlos"
   ]
  },
  {
   "cell_type": "code",
   "execution_count": null,
   "metadata": {},
   "outputs": [],
   "source": [
    "# Creamos una función que elimine valores atípicos dependientes de columna\n",
    "\n",
    "def drop_av(df, column):\n",
    "    temp = df[column]\n",
    "    Q1 = df[column].quantile(0.25)\n",
    "    Q3 = df[column].quantile(0.75)\n",
    "    IQR = Q3-Q1\n",
    "    bottom_limit = Q1-(1.5*IQR)\n",
    "    upper_limit = Q3+(1.5*IQR)\n",
    "    df = df.query('@temp > @bottom_limit and @temp < @upper_limit')\n",
    "    return df"
   ]
  },
  {
   "cell_type": "code",
   "execution_count": null,
   "metadata": {},
   "outputs": [],
   "source": [
    "# se ejecuta la función anterior\n",
    "df = drop_av(df, 'power')\n",
    "df = drop_av(df, 'registration_year')"
   ]
  },
  {
   "cell_type": "code",
   "execution_count": null,
   "metadata": {
    "scrolled": false
   },
   "outputs": [],
   "source": [
    "# Configura el estilo de Seaborn para mejorar la estética\n",
    "sns.set(style=\"whitegrid\")\n",
    "\n",
    "plt.figure(figsize=(10,10))\n",
    "\n",
    "# Gráfica 1: Diagrama de caja para 'power'\n",
    "plt.subplot(2, 1, 1)\n",
    "sns.boxplot(data=df, y='power', color='green')\n",
    "plt.title('Distribución de Power', fontsize=14)\n",
    "plt.ylabel('Power', fontsize=12)\n",
    "\n",
    "# Gráfica 2: Diagrama de caja para 'registration_year'\n",
    "plt.subplot(2, 1, 2)\n",
    "sns.boxplot(data=df, y='registration_year', color='red')\n",
    "plt.title('Distribución de Registration Year', fontsize=14)\n",
    "plt.ylabel('Registration Year', fontsize=12)\n",
    "\n",
    "# Ajusta el espaciado entre las gráficas\n",
    "plt.tight_layout()\n",
    "plt.show()"
   ]
  },
  {
   "cell_type": "markdown",
   "metadata": {},
   "source": [
    "Se ha identificado que los valores ausentes están presentes únicamente en las columnas con características cualitativas, mientras que las características cuantitativas no presentan valores faltantes. Para manejar estos datos categóricos, podríamos aplicar la codificación One-Hot Encoding (OHE). Aunque columnas como `model` o `brand` generarán un gran número de nuevas columnas, es fundamental que la base de datos reconozca estas características, ya que son determinantes en la predicción del precio y su impacto en el modelo será significativo."
   ]
  },
  {
   "cell_type": "code",
   "execution_count": null,
   "metadata": {},
   "outputs": [],
   "source": [
    "## corrigiendo el comentario anterior\n",
    "data = df.fillna('unknown')"
   ]
  },
  {
   "cell_type": "markdown",
   "metadata": {},
   "source": [
    "<div class=\"alert alert-block alert-success\">\n",
    "\n",
    "<b>Comentario del revisor. (Iteración 1)</b> <a class=\"tocSkip\"></a>\n",
    "    \n",
    "Nuevamente excelente Jorge! Siempre es importante  analizar los outliers en nuestros problemas, en este caso teniamos casos con años de registro claramente erroneos como 9999, bien implementado y bien mostrado mediante el uso de boxplots! Excelente uso de los quantiles para este acercamiento :)"
   ]
  },
  {
   "cell_type": "code",
   "execution_count": null,
   "metadata": {},
   "outputs": [],
   "source": [
    "## convirtiendo las variables categóricas en tu DataFrame df en variables binarias (o \"dummies\"). Esto se conoce como One-Hot Encoding.\n",
    "data = pd.get_dummies(df, drop_first=True)"
   ]
  },
  {
   "cell_type": "markdown",
   "metadata": {},
   "source": [
    "### Preparación de datos"
   ]
  },
  {
   "cell_type": "code",
   "execution_count": 18,
   "metadata": {
    "scrolled": true
   },
   "outputs": [
    {
     "data": {
      "text/html": [
       "<div>\n",
       "<style scoped>\n",
       "    .dataframe tbody tr th:only-of-type {\n",
       "        vertical-align: middle;\n",
       "    }\n",
       "\n",
       "    .dataframe tbody tr th {\n",
       "        vertical-align: top;\n",
       "    }\n",
       "\n",
       "    .dataframe thead th {\n",
       "        text-align: right;\n",
       "    }\n",
       "</style>\n",
       "<table border=\"1\" class=\"dataframe\">\n",
       "  <thead>\n",
       "    <tr style=\"text-align: right;\">\n",
       "      <th></th>\n",
       "      <th>price</th>\n",
       "      <th>registration_year</th>\n",
       "      <th>power</th>\n",
       "      <th>mileage</th>\n",
       "      <th>vehicle_type_convertible</th>\n",
       "      <th>vehicle_type_coupe</th>\n",
       "      <th>vehicle_type_other</th>\n",
       "      <th>vehicle_type_sedan</th>\n",
       "      <th>vehicle_type_small</th>\n",
       "      <th>vehicle_type_suv</th>\n",
       "      <th>...</th>\n",
       "      <th>brand_skoda</th>\n",
       "      <th>brand_smart</th>\n",
       "      <th>brand_sonstige_autos</th>\n",
       "      <th>brand_subaru</th>\n",
       "      <th>brand_suzuki</th>\n",
       "      <th>brand_toyota</th>\n",
       "      <th>brand_trabant</th>\n",
       "      <th>brand_volkswagen</th>\n",
       "      <th>brand_volvo</th>\n",
       "      <th>not_repaired_yes</th>\n",
       "    </tr>\n",
       "  </thead>\n",
       "  <tbody>\n",
       "    <tr>\n",
       "      <th>0</th>\n",
       "      <td>480</td>\n",
       "      <td>-1.654579</td>\n",
       "      <td>-1.826334</td>\n",
       "      <td>0.569253</td>\n",
       "      <td>0</td>\n",
       "      <td>0</td>\n",
       "      <td>0</td>\n",
       "      <td>0</td>\n",
       "      <td>0</td>\n",
       "      <td>0</td>\n",
       "      <td>...</td>\n",
       "      <td>0</td>\n",
       "      <td>0</td>\n",
       "      <td>0</td>\n",
       "      <td>0</td>\n",
       "      <td>0</td>\n",
       "      <td>0</td>\n",
       "      <td>0</td>\n",
       "      <td>1</td>\n",
       "      <td>0</td>\n",
       "      <td>0</td>\n",
       "    </tr>\n",
       "    <tr>\n",
       "      <th>1</th>\n",
       "      <td>18300</td>\n",
       "      <td>1.160785</td>\n",
       "      <td>1.539047</td>\n",
       "      <td>-0.100732</td>\n",
       "      <td>0</td>\n",
       "      <td>1</td>\n",
       "      <td>0</td>\n",
       "      <td>0</td>\n",
       "      <td>0</td>\n",
       "      <td>0</td>\n",
       "      <td>...</td>\n",
       "      <td>0</td>\n",
       "      <td>0</td>\n",
       "      <td>0</td>\n",
       "      <td>0</td>\n",
       "      <td>0</td>\n",
       "      <td>0</td>\n",
       "      <td>0</td>\n",
       "      <td>0</td>\n",
       "      <td>0</td>\n",
       "      <td>1</td>\n",
       "    </tr>\n",
       "    <tr>\n",
       "      <th>2</th>\n",
       "      <td>9800</td>\n",
       "      <td>0.065921</td>\n",
       "      <td>1.060809</td>\n",
       "      <td>-0.100732</td>\n",
       "      <td>0</td>\n",
       "      <td>0</td>\n",
       "      <td>0</td>\n",
       "      <td>0</td>\n",
       "      <td>0</td>\n",
       "      <td>1</td>\n",
       "      <td>...</td>\n",
       "      <td>0</td>\n",
       "      <td>0</td>\n",
       "      <td>0</td>\n",
       "      <td>0</td>\n",
       "      <td>0</td>\n",
       "      <td>0</td>\n",
       "      <td>0</td>\n",
       "      <td>0</td>\n",
       "      <td>0</td>\n",
       "      <td>0</td>\n",
       "    </tr>\n",
       "    <tr>\n",
       "      <th>3</th>\n",
       "      <td>1500</td>\n",
       "      <td>-0.403306</td>\n",
       "      <td>-0.497894</td>\n",
       "      <td>0.569253</td>\n",
       "      <td>0</td>\n",
       "      <td>0</td>\n",
       "      <td>0</td>\n",
       "      <td>0</td>\n",
       "      <td>1</td>\n",
       "      <td>0</td>\n",
       "      <td>...</td>\n",
       "      <td>0</td>\n",
       "      <td>0</td>\n",
       "      <td>0</td>\n",
       "      <td>0</td>\n",
       "      <td>0</td>\n",
       "      <td>0</td>\n",
       "      <td>0</td>\n",
       "      <td>1</td>\n",
       "      <td>0</td>\n",
       "      <td>0</td>\n",
       "    </tr>\n",
       "    <tr>\n",
       "      <th>4</th>\n",
       "      <td>3600</td>\n",
       "      <td>0.691557</td>\n",
       "      <td>-0.604169</td>\n",
       "      <td>-1.038711</td>\n",
       "      <td>0</td>\n",
       "      <td>0</td>\n",
       "      <td>0</td>\n",
       "      <td>0</td>\n",
       "      <td>1</td>\n",
       "      <td>0</td>\n",
       "      <td>...</td>\n",
       "      <td>1</td>\n",
       "      <td>0</td>\n",
       "      <td>0</td>\n",
       "      <td>0</td>\n",
       "      <td>0</td>\n",
       "      <td>0</td>\n",
       "      <td>0</td>\n",
       "      <td>0</td>\n",
       "      <td>0</td>\n",
       "      <td>0</td>\n",
       "    </tr>\n",
       "  </tbody>\n",
       "</table>\n",
       "<p>5 rows × 304 columns</p>\n",
       "</div>"
      ],
      "text/plain": [
       "   price  registration_year     power   mileage  vehicle_type_convertible  \\\n",
       "0    480          -1.654579 -1.826334  0.569253                         0   \n",
       "1  18300           1.160785  1.539047 -0.100732                         0   \n",
       "2   9800           0.065921  1.060809 -0.100732                         0   \n",
       "3   1500          -0.403306 -0.497894  0.569253                         0   \n",
       "4   3600           0.691557 -0.604169 -1.038711                         0   \n",
       "\n",
       "   vehicle_type_coupe  vehicle_type_other  vehicle_type_sedan  \\\n",
       "0                   0                   0                   0   \n",
       "1                   1                   0                   0   \n",
       "2                   0                   0                   0   \n",
       "3                   0                   0                   0   \n",
       "4                   0                   0                   0   \n",
       "\n",
       "   vehicle_type_small  vehicle_type_suv  ...  brand_skoda  brand_smart  \\\n",
       "0                   0                 0  ...            0            0   \n",
       "1                   0                 0  ...            0            0   \n",
       "2                   0                 1  ...            0            0   \n",
       "3                   1                 0  ...            0            0   \n",
       "4                   1                 0  ...            1            0   \n",
       "\n",
       "   brand_sonstige_autos  brand_subaru  brand_suzuki  brand_toyota  \\\n",
       "0                     0             0             0             0   \n",
       "1                     0             0             0             0   \n",
       "2                     0             0             0             0   \n",
       "3                     0             0             0             0   \n",
       "4                     0             0             0             0   \n",
       "\n",
       "   brand_trabant  brand_volkswagen  brand_volvo  not_repaired_yes  \n",
       "0              0                 1            0                 0  \n",
       "1              0                 0            0                 1  \n",
       "2              0                 0            0                 0  \n",
       "3              0                 1            0                 0  \n",
       "4              0                 0            0                 0  \n",
       "\n",
       "[5 rows x 304 columns]"
      ]
     },
     "execution_count": 18,
     "metadata": {},
     "output_type": "execute_result"
    }
   ],
   "source": [
    "# se van a manejar lo datos de manera estandarziada\n",
    "to_std = ['registration_year','power','mileage']\n",
    "scaler = StandardScaler()\n",
    "scaler.fit(data[to_std])\n",
    "data_scaled = data\n",
    "data_scaled[to_std]= scaler.transform(data_scaled[to_std])\n",
    "data_scaled.head()"
   ]
  },
  {
   "cell_type": "markdown",
   "metadata": {},
   "source": [
    "<div class=\"alert alert-block alert-success\">\n",
    "\n",
    "<b>Comentario del revisor. (Iteración 1)</b> <a class=\"tocSkip\"></a>\n",
    "    \n",
    "Excelente implementación de get_dummies y StandarScaler para la transformación de nuestras features tanto de categóricas a numéricas como numéricas normalizadas. Sigamos!"
   ]
  },
  {
   "cell_type": "code",
   "execution_count": 19,
   "metadata": {},
   "outputs": [],
   "source": [
    "# crear el conjunto de entrenamiento y de prueba\n",
    "\n",
    "X_train, X_test, y_train, y_test = train_test_split(data_scaled.drop(['price'], axis=1), data_scaled['price'], random_state=300623, test_size=0.25)"
   ]
  },
  {
   "cell_type": "markdown",
   "metadata": {},
   "source": [
    "## Entrenamiento del modelo \n",
    "### Entrenamiento con modelo de regresión lineal"
   ]
  },
  {
   "cell_type": "code",
   "execution_count": 20,
   "metadata": {},
   "outputs": [
    {
     "name": "stdout",
     "output_type": "stream",
     "text": [
      " r2_score: 0.4756784519145183.\n",
      " RECM: 2565.024252882704.\n",
      " Tiempo total de entrenamiento: 11.826346397399902.\n"
     ]
    }
   ],
   "source": [
    "t0 = time.time()\n",
    "rl_model = LinearRegression()\n",
    "rl_model.fit(X_train, y_train)\n",
    "y_pred = rl_model.predict(X_test)\n",
    "t1 = time.time()\n",
    "total_time = t1 - t0\n",
    "mse = mean_squared_error(y_pred, y_test)\n",
    "rmse = np.sqrt(mse)\n",
    "print(f' r2_score: {r2_score(y_pred, y_test)}.')\n",
    "print(f' RECM: {rmse}.')\n",
    "print(f' Tiempo total de entrenamiento: {total_time}.')"
   ]
  },
  {
   "cell_type": "markdown",
   "metadata": {},
   "source": [
    "<div class=\"alert alert-block alert-success\">\n",
    "\n",
    "<b>Comentario del revisor. (Iteración 1)</b> <a class=\"tocSkip\"></a>\n",
    "    \n",
    "Modelo simple por default para ver un acercamiento a posibles resultados, bien implementado y excelente uso de métricas y medición de tiempo!"
   ]
  },
  {
   "cell_type": "markdown",
   "metadata": {},
   "source": [
    "Se puede observar que el modelo es extremandamente deficiente.\n",
    "\n",
    "### Entrenamiento con regresión lineal con descenso de gradiente estocástico"
   ]
  },
  {
   "cell_type": "code",
   "execution_count": 21,
   "metadata": {},
   "outputs": [],
   "source": [
    "class SGDLinearRegression:\n",
    "    def __init__(self, step_size, epochs, batch_size, reg_weight):\n",
    "        self.step_size = step_size\n",
    "        self.epochs = epochs\n",
    "        self.batch_size = batch_size\n",
    "        self.reg_weight = reg_weight\n",
    "    \n",
    "    def fit(self, train_features, train_target):\n",
    "        X = np.concatenate(\n",
    "            (np.ones((train_features.shape[0], 1)), train_features), axis=1\n",
    "        )\n",
    "        y = train_target\n",
    "        w = np.zeros(X.shape[1]).astype('float64')\n",
    "        \n",
    "        for _ in range(self.epochs):\n",
    "            batches_count = X.shape[0] // self.batch_size\n",
    "            for i in range(batches_count):\n",
    "                begin = i * self.batch_size\n",
    "                end = (i + 1) * self.batch_size\n",
    "                X_batch = X[begin:end, :]\n",
    "                y_batch = y[begin:end]\n",
    "                \n",
    "                gradient = (2 * X_batch.T.dot(X_batch.dot(w) - y_batch)/ X_batch.shape[0]).astype('float64')\n",
    "                \n",
    "                reg = 2 * w.copy()\n",
    "                reg[0] = 0\n",
    "                \n",
    "                gradient += self.reg_weight * reg\n",
    "                \n",
    "                w -= self.step_size*gradient\n",
    "\n",
    "        self.w = w[1:]\n",
    "        self.w0 = w[0]\n",
    "\n",
    "    def predict(self, test_features):\n",
    "        return test_features.dot(self.w) + self.w0"
   ]
  },
  {
   "cell_type": "code",
   "execution_count": 22,
   "metadata": {
    "scrolled": true
   },
   "outputs": [
    {
     "name": "stdout",
     "output_type": "stream",
     "text": [
      " métrica r2_score: 0.6433.\n",
      " RECM: 2610.15363570392.\n",
      "Tiempo de entrenamiento y predicción es:70.20427775382996 segundos.\n"
     ]
    }
   ],
   "source": [
    "## entrenamineto del modelo SGDRL\n",
    "    \n",
    "t0 = time.time()    \n",
    "model = SGDLinearRegression(0.01, 10, 100, 0)\n",
    "model.fit(X_train, y_train)\n",
    "pred_test = model.predict(X_test)\n",
    "t1 = time.time()\n",
    "mse = mean_squared_error(pred_test, y_test)\n",
    "rmse = np.sqrt(mse)\n",
    "process_time = (t1-t0)\n",
    "print(f' métrica r2_score: {r2_score(y_test, pred_test).round(4)}.')\n",
    "print(f' RECM: {rmse}.')\n",
    "print(f'Tiempo de entrenamiento y predicción es:{process_time} segundos.')\n"
   ]
  },
  {
   "cell_type": "markdown",
   "metadata": {},
   "source": [
    "<div class=\"alert alert-block alert-success\">\n",
    "\n",
    "<b>Comentario del revisor. (Iteración 1)</b> <a class=\"tocSkip\"></a>\n",
    "    \n",
    "Impresionante armado manual  para la regresión lineal teniendo en cuenta el descenso de gradiente Jorge! Excelente trabajo!"
   ]
  },
  {
   "cell_type": "markdown",
   "metadata": {},
   "source": [
    "### Entrenamiento de modelo mediante LightGBM"
   ]
  },
  {
   "cell_type": "code",
   "execution_count": 23,
   "metadata": {},
   "outputs": [],
   "source": [
    "train_data = lgb.Dataset(X_train, label=y_train)\n",
    "test_data = lgb.Dataset(X_test, label=y_test)"
   ]
  },
  {
   "cell_type": "code",
   "execution_count": 24,
   "metadata": {},
   "outputs": [],
   "source": [
    "## especificando parámetros a utilizar para lightgbm\n",
    "\n",
    "parameters = {\n",
    "    'force_row_wise' : True,\n",
    "    'is_unbalance' : True,\n",
    "    'boosting_type' : 'gbdt',\n",
    "    'verbosity' : -1,\n",
    "    'num_leaves' : 150,\n",
    "    'learning_rate' : 0.3,\n",
    "    'metric' : ['rmse', 'auc'],\n",
    "    'random_state' : 1266,\n",
    "    'subsample_for_bin' : 10000,\n",
    "    'n_estimators' : 300\n",
    "}"
   ]
  },
  {
   "cell_type": "code",
   "execution_count": 25,
   "metadata": {
    "scrolled": false
   },
   "outputs": [
    {
     "name": "stderr",
     "output_type": "stream",
     "text": [
      "/opt/conda/envs/python3/lib/python3.9/site-packages/lightgbm/engine.py:177: UserWarning: Found `n_estimators` in params. Will use it instead of argument\n",
      "  _log_warning(f\"Found `{alias}` in params. Will use it instead of argument\")\n"
     ]
    },
    {
     "name": "stdout",
     "output_type": "stream",
     "text": [
      "Training until validation scores don't improve for 10 rounds\n",
      "Early stopping, best iteration is:\n",
      "[72]\tvalid_0's rmse: 1600.38\tvalid_0's auc: 0.702606\n",
      "Tiempo de entrenamiento y predicción es:16.381969213485718 segundos.\n"
     ]
    }
   ],
   "source": [
    "callbacks = [lgb.early_stopping(10)]\n",
    "t0 = time.time()\n",
    "model_gbm = lgb.train(parameters,                      \n",
    "                      train_data,\n",
    "                      valid_sets = test_data,\n",
    "                      num_boost_round =1000,\n",
    "                      callbacks = callbacks,\n",
    "                     )\n",
    "predict = model_gbm.predict(X_test)\n",
    "t1 = time.time()\n",
    "process_time = (t1-t0)\n",
    "print(f'Tiempo de entrenamiento y predicción es:{process_time} segundos.')"
   ]
  },
  {
   "cell_type": "markdown",
   "metadata": {},
   "source": [
    "El proceso anterior muestra un excelente `RECM` y un `AUC` deseable; sin embargo, el tiempo de entrenamiento, que es de aproximadamente 8.6 minutos con los recursos de procesamiento actuales, es relativamente alto. Por lo tanto, es recomendable optimizar los hiperparámetros del modelo para mejorar el rendimiento y reducir el tiempo de entrenamiento."
   ]
  },
  {
   "cell_type": "code",
   "execution_count": 26,
   "metadata": {},
   "outputs": [
    {
     "name": "stdout",
     "output_type": "stream",
     "text": [
      "Métrica r2_score: 0.8659.\n",
      "RECM: 1600.3756623334853.\n"
     ]
    }
   ],
   "source": [
    "mse = mean_squared_error(predict, y_test)\n",
    "rmse = np.sqrt(mse)\n",
    "print(f'Métrica r2_score: {r2_score(y_test, predict).round(4)}.')\n",
    "print(f'RECM: {rmse}.')"
   ]
  },
  {
   "cell_type": "markdown",
   "metadata": {},
   "source": [
    "<div class=\"alert alert-block alert-success\">\n",
    "\n",
    "<b>Comentario del revisor. (Iteración 1)</b> <a class=\"tocSkip\"></a>\n",
    " \n",
    "Y un tercer modelo en este caso utilizando una grilla para los parametros, bien hecho y buenos resultados!"
   ]
  },
  {
   "cell_type": "markdown",
   "metadata": {},
   "source": [
    "## Análisis del modelo\n",
    "### Analizando pruebas con el modelo de regresión lineal SGDL"
   ]
  },
  {
   "cell_type": "code",
   "execution_count": 27,
   "metadata": {},
   "outputs": [
    {
     "name": "stdout",
     "output_type": "stream",
     "text": [
      "0.5608\n",
      "Tiempo de entrenamiento y predicción es:71.70253658294678 segundos.\n"
     ]
    }
   ],
   "source": [
    "t0 = time.time()\n",
    "model =SGDLinearRegression(0.01, 10, 100, 0.1)\n",
    "model.fit(X_train, y_train)\n",
    "pred_test = model.predict(X_test)\n",
    "t1 = time.time()\n",
    "process_time = (t1-t0)\n",
    "print(r2_score(y_test, pred_test).round(4))\n",
    "print(f'Tiempo de entrenamiento y predicción es:{process_time} segundos.')"
   ]
  },
  {
   "cell_type": "code",
   "execution_count": 28,
   "metadata": {},
   "outputs": [
    {
     "name": "stdout",
     "output_type": "stream",
     "text": [
      "0.4166\n",
      "Tiempo de entrenamiento y predicción es:73.09981894493103 segundos.\n"
     ]
    }
   ],
   "source": [
    "t0 = time.time()\n",
    "model =SGDLinearRegression(0.01, 10, 100, 1)\n",
    "model.fit(X_train, y_train)\n",
    "pred_test = model.predict(X_test)\n",
    "t1 = time.time()\n",
    "process_time = (t1-t0)\n",
    "print(r2_score(y_test, pred_test).round(4))\n",
    "print(f'Tiempo de entrenamiento y predicción es:{process_time} segundos.')"
   ]
  },
  {
   "cell_type": "code",
   "execution_count": 29,
   "metadata": {},
   "outputs": [
    {
     "name": "stdout",
     "output_type": "stream",
     "text": [
      "0.1028\n",
      "Tiempo de entrenamiento y predicción es:71.87703800201416 segundos.\n"
     ]
    }
   ],
   "source": [
    "t0 = time.time()\n",
    "model =SGDLinearRegression(0.01, 10, 100, 10)\n",
    "model.fit(X_train, y_train)\n",
    "pred_test = model.predict(X_test)\n",
    "t1 = time.time()\n",
    "process_time = (t1-t0)\n",
    "print(r2_score(y_test, pred_test).round(4))\n",
    "print(f'Tiempo de entrenamiento y predicción es:{process_time} segundos.')"
   ]
  },
  {
   "cell_type": "code",
   "execution_count": 30,
   "metadata": {},
   "outputs": [
    {
     "name": "stdout",
     "output_type": "stream",
     "text": [
      "0.6432\n",
      "Tiempo de entrenamiento y predicción es:14.882035493850708 segundos.\n"
     ]
    }
   ],
   "source": [
    "t0 = time.time()\n",
    "model =SGDLinearRegression(0.1, 10, 1000, 0)\n",
    "model.fit(X_train, y_train)\n",
    "pred_test = model.predict(X_test)\n",
    "t1 = time.time()\n",
    "process_time = (t1-t0)\n",
    "print(r2_score(y_test, pred_test).round(4))\n",
    "print(f'Tiempo de entrenamiento y predicción es:{process_time} segundos.')"
   ]
  },
  {
   "cell_type": "markdown",
   "metadata": {},
   "source": [
    "### Analizando pruebas con el modelo de regresión lineal GBDT\n",
    "\n",
    "Así nos referimos al modelo realizado con las herramientas de LightGBM en el cual se utilizó potenciación del gradiente con árboles de decisión.\n",
    "Se puede observar que se obtiene el mejor rendimiento en el modelo."
   ]
  },
  {
   "cell_type": "code",
   "execution_count": 31,
   "metadata": {},
   "outputs": [],
   "source": [
    "train_data = lgb.Dataset(X_train, label=y_train)\n",
    "test_data = lgb.Dataset(X_test, label=y_test)"
   ]
  },
  {
   "cell_type": "code",
   "execution_count": 32,
   "metadata": {},
   "outputs": [
    {
     "name": "stderr",
     "output_type": "stream",
     "text": [
      "/opt/conda/envs/python3/lib/python3.9/site-packages/lightgbm/engine.py:177: UserWarning: Found `n_estimators` in params. Will use it instead of argument\n",
      "  _log_warning(f\"Found `{alias}` in params. Will use it instead of argument\")\n"
     ]
    },
    {
     "name": "stdout",
     "output_type": "stream",
     "text": [
      "Training until validation scores don't improve for 10 rounds\n",
      "Early stopping, best iteration is:\n",
      "[72]\tvalid_0's rmse: 1600.38\tvalid_0's auc: 0.702606\n",
      "Tiempo de entrenamiento y predicción es:17.6119601726532 segundos.\n"
     ]
    }
   ],
   "source": [
    "callbacks = [lgb.early_stopping(10)]\n",
    "t0 = time.time()\n",
    "model_gbm_2 = lgb.LGBMClassifier()\n",
    "model_gbm_2 = lgb.train(parameters,\n",
    "                      train_data,\n",
    "                      valid_sets = test_data,\n",
    "                      num_boost_round =500,\n",
    "                      callbacks = callbacks\n",
    "                     )\n",
    "predict = model_gbm_2.predict(X_test)\n",
    "t1 = time.time()\n",
    "process_time = (t1-t0)\n",
    "print(f'Tiempo de entrenamiento y predicción es:{process_time} segundos.')"
   ]
  },
  {
   "cell_type": "code",
   "execution_count": 33,
   "metadata": {},
   "outputs": [
    {
     "name": "stdout",
     "output_type": "stream",
     "text": [
      "Métrica r2_score: 0.8659.\n",
      "RECM: 1600.3756623334853.\n"
     ]
    }
   ],
   "source": [
    "mse = mean_squared_error(predict, y_test)\n",
    "rmse = np.sqrt(mse)\n",
    "print(f'Métrica r2_score: {r2_score(y_test, predict).round(4)}.')\n",
    "print(f'RECM: {rmse}.')"
   ]
  },
  {
   "cell_type": "code",
   "execution_count": 34,
   "metadata": {},
   "outputs": [],
   "source": [
    "train_data = lgb.Dataset(X_train, label=y_train)\n",
    "test_data = lgb.Dataset(X_test, label=y_test)"
   ]
  },
  {
   "cell_type": "code",
   "execution_count": 35,
   "metadata": {},
   "outputs": [],
   "source": [
    "# modificando algunos de los parámetros del modelo que tuvo mejor rendimiento (model_gbm)\n",
    "\n",
    "parameters = {\n",
    "    'force_row_wise' : True,\n",
    "    'is_unbalance' : True,\n",
    "    'boosting'  : 'gbdt',\n",
    "    'verbosity' : -1,\n",
    "    'num_leaves' : 100,\n",
    "    'learning_rate' : 0.5,\n",
    "    'metric' : ['rmse', 'auc']}"
   ]
  },
  {
   "cell_type": "code",
   "execution_count": 36,
   "metadata": {
    "scrolled": true
   },
   "outputs": [
    {
     "name": "stdout",
     "output_type": "stream",
     "text": [
      "Tiempo total de entrenamiento:7.417747735977173\n",
      "Métrica r2_score: 0.8445.\n",
      "RECM: 1723.3256942827438.\n"
     ]
    }
   ],
   "source": [
    "callbacks = [lgb.early_stopping(10)]\n",
    "t0 = time.time()\n",
    "model_gbm = lgb.LGBMRegressor()\n",
    "model_gbm.fit(X_train, y_train)\n",
    "t1 = time.time()\n",
    "total_time = t1 - t0\n",
    "print(f'Tiempo total de entrenamiento:{total_time}')\n",
    "predict = model_gbm.predict(X_test)\n",
    "mse = mean_squared_error(predict, y_test)\n",
    "rmse = np.sqrt(mse)\n",
    "print(f'Métrica r2_score: {r2_score(y_test, predict).round(4)}.')\n",
    "print(f'RECM: {rmse}.')"
   ]
  },
  {
   "cell_type": "markdown",
   "metadata": {},
   "source": [
    "<div class=\"alert alert-block alert-warning\">\n",
    "\n",
    "<b>Comentario del revisor. (Iteración 1)</b> <a class=\"tocSkip\"></a>\n",
    "    \n",
    "Y aquí las implementaciones fueron similares buscando diferentes variables de los modelos  y viendo como estas variaciones impactan en las métricas, estupendo! Si quisieramos podríamos tratar de investigar el uso de alternativas de gridesearch para evaluar una gran cantidad de hiperparametros sin tener que repetir códigos."
   ]
  },
  {
   "cell_type": "markdown",
   "metadata": {},
   "source": [
    "Explicación:\n",
    "GridSearchCV: Busca exhaustivamente en una cuadrícula de parámetros para encontrar la mejor combinación.\n",
    "param_grid: Define los rangos de parámetros que quieres probar.\n",
    "scoring: Puedes usar diferentes métricas de evaluación; en este caso, estamos utilizando el r2_score.\n",
    "cv: Especifica el número de divisiones para la validación cruzada.\n",
    "Este enfoque te permite evaluar una gran cantidad de combinaciones de hiperparámetros sin necesidad de escribir código repetitivo, y optimizarás los modelos para el conjunto de datos que estás usando."
   ]
  },
  {
   "cell_type": "code",
   "execution_count": null,
   "metadata": {},
   "outputs": [
    {
     "name": "stderr",
     "output_type": "stream",
     "text": [
      "/opt/conda/envs/python3/lib/python3.9/site-packages/sklearn/linear_model/_stochastic_gradient.py:1220: ConvergenceWarning: Maximum number of iteration reached before convergence. Consider increasing max_iter to improve the fit.\n",
      "  warnings.warn(\"Maximum number of iteration reached before \"\n",
      "/opt/conda/envs/python3/lib/python3.9/site-packages/sklearn/linear_model/_stochastic_gradient.py:1220: ConvergenceWarning: Maximum number of iteration reached before convergence. Consider increasing max_iter to improve the fit.\n",
      "  warnings.warn(\"Maximum number of iteration reached before \"\n",
      "/opt/conda/envs/python3/lib/python3.9/site-packages/sklearn/linear_model/_stochastic_gradient.py:1220: ConvergenceWarning: Maximum number of iteration reached before convergence. Consider increasing max_iter to improve the fit.\n",
      "  warnings.warn(\"Maximum number of iteration reached before \"\n",
      "/opt/conda/envs/python3/lib/python3.9/site-packages/sklearn/linear_model/_stochastic_gradient.py:1220: ConvergenceWarning: Maximum number of iteration reached before convergence. Consider increasing max_iter to improve the fit.\n",
      "  warnings.warn(\"Maximum number of iteration reached before \"\n",
      "/opt/conda/envs/python3/lib/python3.9/site-packages/sklearn/linear_model/_stochastic_gradient.py:1220: ConvergenceWarning: Maximum number of iteration reached before convergence. Consider increasing max_iter to improve the fit.\n",
      "  warnings.warn(\"Maximum number of iteration reached before \"\n",
      "/opt/conda/envs/python3/lib/python3.9/site-packages/sklearn/linear_model/_stochastic_gradient.py:1220: ConvergenceWarning: Maximum number of iteration reached before convergence. Consider increasing max_iter to improve the fit.\n",
      "  warnings.warn(\"Maximum number of iteration reached before \"\n",
      "/opt/conda/envs/python3/lib/python3.9/site-packages/sklearn/linear_model/_stochastic_gradient.py:1220: ConvergenceWarning: Maximum number of iteration reached before convergence. Consider increasing max_iter to improve the fit.\n",
      "  warnings.warn(\"Maximum number of iteration reached before \"\n",
      "/opt/conda/envs/python3/lib/python3.9/site-packages/sklearn/linear_model/_stochastic_gradient.py:1220: ConvergenceWarning: Maximum number of iteration reached before convergence. Consider increasing max_iter to improve the fit.\n",
      "  warnings.warn(\"Maximum number of iteration reached before \"\n",
      "/opt/conda/envs/python3/lib/python3.9/site-packages/sklearn/linear_model/_stochastic_gradient.py:1220: ConvergenceWarning: Maximum number of iteration reached before convergence. Consider increasing max_iter to improve the fit.\n",
      "  warnings.warn(\"Maximum number of iteration reached before \"\n",
      "/opt/conda/envs/python3/lib/python3.9/site-packages/sklearn/linear_model/_stochastic_gradient.py:1220: ConvergenceWarning: Maximum number of iteration reached before convergence. Consider increasing max_iter to improve the fit.\n",
      "  warnings.warn(\"Maximum number of iteration reached before \"\n",
      "/opt/conda/envs/python3/lib/python3.9/site-packages/sklearn/linear_model/_stochastic_gradient.py:1220: ConvergenceWarning: Maximum number of iteration reached before convergence. Consider increasing max_iter to improve the fit.\n",
      "  warnings.warn(\"Maximum number of iteration reached before \"\n",
      "/opt/conda/envs/python3/lib/python3.9/site-packages/sklearn/linear_model/_stochastic_gradient.py:1220: ConvergenceWarning: Maximum number of iteration reached before convergence. Consider increasing max_iter to improve the fit.\n",
      "  warnings.warn(\"Maximum number of iteration reached before \"\n",
      "/opt/conda/envs/python3/lib/python3.9/site-packages/sklearn/linear_model/_stochastic_gradient.py:1220: ConvergenceWarning: Maximum number of iteration reached before convergence. Consider increasing max_iter to improve the fit.\n",
      "  warnings.warn(\"Maximum number of iteration reached before \"\n",
      "/opt/conda/envs/python3/lib/python3.9/site-packages/sklearn/linear_model/_stochastic_gradient.py:1220: ConvergenceWarning: Maximum number of iteration reached before convergence. Consider increasing max_iter to improve the fit.\n",
      "  warnings.warn(\"Maximum number of iteration reached before \"\n",
      "/opt/conda/envs/python3/lib/python3.9/site-packages/sklearn/linear_model/_stochastic_gradient.py:1220: ConvergenceWarning: Maximum number of iteration reached before convergence. Consider increasing max_iter to improve the fit.\n",
      "  warnings.warn(\"Maximum number of iteration reached before \"\n",
      "/opt/conda/envs/python3/lib/python3.9/site-packages/sklearn/linear_model/_stochastic_gradient.py:1220: ConvergenceWarning: Maximum number of iteration reached before convergence. Consider increasing max_iter to improve the fit.\n",
      "  warnings.warn(\"Maximum number of iteration reached before \"\n",
      "/opt/conda/envs/python3/lib/python3.9/site-packages/sklearn/linear_model/_stochastic_gradient.py:1220: ConvergenceWarning: Maximum number of iteration reached before convergence. Consider increasing max_iter to improve the fit.\n",
      "  warnings.warn(\"Maximum number of iteration reached before \"\n",
      "/opt/conda/envs/python3/lib/python3.9/site-packages/sklearn/linear_model/_stochastic_gradient.py:1220: ConvergenceWarning: Maximum number of iteration reached before convergence. Consider increasing max_iter to improve the fit.\n",
      "  warnings.warn(\"Maximum number of iteration reached before \"\n",
      "/opt/conda/envs/python3/lib/python3.9/site-packages/sklearn/linear_model/_stochastic_gradient.py:1220: ConvergenceWarning: Maximum number of iteration reached before convergence. Consider increasing max_iter to improve the fit.\n",
      "  warnings.warn(\"Maximum number of iteration reached before \"\n",
      "/opt/conda/envs/python3/lib/python3.9/site-packages/sklearn/linear_model/_stochastic_gradient.py:1220: ConvergenceWarning: Maximum number of iteration reached before convergence. Consider increasing max_iter to improve the fit.\n",
      "  warnings.warn(\"Maximum number of iteration reached before \"\n",
      "/opt/conda/envs/python3/lib/python3.9/site-packages/sklearn/linear_model/_stochastic_gradient.py:1220: ConvergenceWarning: Maximum number of iteration reached before convergence. Consider increasing max_iter to improve the fit.\n",
      "  warnings.warn(\"Maximum number of iteration reached before \"\n",
      "/opt/conda/envs/python3/lib/python3.9/site-packages/sklearn/linear_model/_stochastic_gradient.py:1220: ConvergenceWarning: Maximum number of iteration reached before convergence. Consider increasing max_iter to improve the fit.\n",
      "  warnings.warn(\"Maximum number of iteration reached before \"\n",
      "/opt/conda/envs/python3/lib/python3.9/site-packages/sklearn/linear_model/_stochastic_gradient.py:1220: ConvergenceWarning: Maximum number of iteration reached before convergence. Consider increasing max_iter to improve the fit.\n",
      "  warnings.warn(\"Maximum number of iteration reached before \"\n",
      "/opt/conda/envs/python3/lib/python3.9/site-packages/sklearn/linear_model/_stochastic_gradient.py:1220: ConvergenceWarning: Maximum number of iteration reached before convergence. Consider increasing max_iter to improve the fit.\n",
      "  warnings.warn(\"Maximum number of iteration reached before \"\n",
      "/opt/conda/envs/python3/lib/python3.9/site-packages/sklearn/linear_model/_stochastic_gradient.py:1220: ConvergenceWarning: Maximum number of iteration reached before convergence. Consider increasing max_iter to improve the fit.\n",
      "  warnings.warn(\"Maximum number of iteration reached before \"\n",
      "/opt/conda/envs/python3/lib/python3.9/site-packages/sklearn/linear_model/_stochastic_gradient.py:1220: ConvergenceWarning: Maximum number of iteration reached before convergence. Consider increasing max_iter to improve the fit.\n",
      "  warnings.warn(\"Maximum number of iteration reached before \"\n",
      "/opt/conda/envs/python3/lib/python3.9/site-packages/sklearn/linear_model/_stochastic_gradient.py:1220: ConvergenceWarning: Maximum number of iteration reached before convergence. Consider increasing max_iter to improve the fit.\n",
      "  warnings.warn(\"Maximum number of iteration reached before \"\n",
      "/opt/conda/envs/python3/lib/python3.9/site-packages/sklearn/linear_model/_stochastic_gradient.py:1220: ConvergenceWarning: Maximum number of iteration reached before convergence. Consider increasing max_iter to improve the fit.\n",
      "  warnings.warn(\"Maximum number of iteration reached before \"\n",
      "/opt/conda/envs/python3/lib/python3.9/site-packages/sklearn/linear_model/_stochastic_gradient.py:1220: ConvergenceWarning: Maximum number of iteration reached before convergence. Consider increasing max_iter to improve the fit.\n",
      "  warnings.warn(\"Maximum number of iteration reached before \"\n"
     ]
    },
    {
     "name": "stderr",
     "output_type": "stream",
     "text": [
      "/opt/conda/envs/python3/lib/python3.9/site-packages/sklearn/linear_model/_stochastic_gradient.py:1220: ConvergenceWarning: Maximum number of iteration reached before convergence. Consider increasing max_iter to improve the fit.\n",
      "  warnings.warn(\"Maximum number of iteration reached before \"\n",
      "/opt/conda/envs/python3/lib/python3.9/site-packages/sklearn/linear_model/_stochastic_gradient.py:1220: ConvergenceWarning: Maximum number of iteration reached before convergence. Consider increasing max_iter to improve the fit.\n",
      "  warnings.warn(\"Maximum number of iteration reached before \"\n",
      "/opt/conda/envs/python3/lib/python3.9/site-packages/sklearn/linear_model/_stochastic_gradient.py:1220: ConvergenceWarning: Maximum number of iteration reached before convergence. Consider increasing max_iter to improve the fit.\n",
      "  warnings.warn(\"Maximum number of iteration reached before \"\n",
      "/opt/conda/envs/python3/lib/python3.9/site-packages/sklearn/linear_model/_stochastic_gradient.py:1220: ConvergenceWarning: Maximum number of iteration reached before convergence. Consider increasing max_iter to improve the fit.\n",
      "  warnings.warn(\"Maximum number of iteration reached before \"\n",
      "/opt/conda/envs/python3/lib/python3.9/site-packages/sklearn/linear_model/_stochastic_gradient.py:1220: ConvergenceWarning: Maximum number of iteration reached before convergence. Consider increasing max_iter to improve the fit.\n",
      "  warnings.warn(\"Maximum number of iteration reached before \"\n",
      "/opt/conda/envs/python3/lib/python3.9/site-packages/sklearn/linear_model/_stochastic_gradient.py:1220: ConvergenceWarning: Maximum number of iteration reached before convergence. Consider increasing max_iter to improve the fit.\n",
      "  warnings.warn(\"Maximum number of iteration reached before \"\n",
      "/opt/conda/envs/python3/lib/python3.9/site-packages/sklearn/linear_model/_stochastic_gradient.py:1220: ConvergenceWarning: Maximum number of iteration reached before convergence. Consider increasing max_iter to improve the fit.\n",
      "  warnings.warn(\"Maximum number of iteration reached before \"\n",
      "/opt/conda/envs/python3/lib/python3.9/site-packages/sklearn/linear_model/_stochastic_gradient.py:1220: ConvergenceWarning: Maximum number of iteration reached before convergence. Consider increasing max_iter to improve the fit.\n",
      "  warnings.warn(\"Maximum number of iteration reached before \"\n",
      "/opt/conda/envs/python3/lib/python3.9/site-packages/sklearn/linear_model/_stochastic_gradient.py:1220: ConvergenceWarning: Maximum number of iteration reached before convergence. Consider increasing max_iter to improve the fit.\n",
      "  warnings.warn(\"Maximum number of iteration reached before \"\n"
     ]
    }
   ],
   "source": [
    "# Definir los hiperparámetros para SGDRegressor\n",
    "# Definir el modelo\n",
    "sgd = SGDRegressor()\n",
    "\n",
    "# Definir el grid de hiperparámetros\n",
    "param_grid_sgd = {\n",
    "    'alpha': [0.0001, 0.001, 0.01, 0.1],\n",
    "    'l1_ratio': [0.1, 0.5, 0.9],\n",
    "    'max_iter': [1000, 2000, 3000],\n",
    "    'learning_rate': ['constant', 'optimal', 'adaptive']\n",
    "}\n",
    "\n",
    "# Usar GridSearchCV para encontrar la mejor combinación de hiperparámetros\n",
    "grid_search_sgd = GridSearchCV(estimator=sgd, param_grid=param_grid_sgd, cv=5, scoring='r2', n_jobs=-1)\n",
    "grid_search_sgd.fit(X_train, y_train)\n",
    "\n",
    "# Resultados\n",
    "print(\"Best parameters found for SGDRegressor:\")\n",
    "print(grid_search_sgd.best_params_)\n",
    "print(\"Best R2 score:\", grid_search_sgd.best_score_)"
   ]
  },
  {
   "cell_type": "code",
   "execution_count": null,
   "metadata": {},
   "outputs": [],
   "source": [
    "# # Definir el modelo\n",
    "lgbm = lgb.LGBMRegressor()\n",
    "\n",
    "# Definir el grid de hiperparámetros\n",
    "param_grid_lgbm = {\n",
    "    'num_leaves': [31, 50, 100],\n",
    "    'learning_rate': [0.01, 0.05, 0.1],\n",
    "    'n_estimators': [100, 200, 500],\n",
    "    'boosting_type': ['gbdt', 'dart', 'goss']\n",
    "}\n",
    "\n",
    "# Usar GridSearchCV para encontrar la mejor combinación de hiperparámetros\n",
    "grid_search_lgbm = GridSearchCV(estimator=lgbm, param_grid=param_grid_lgbm, cv=5, scoring='r2', n_jobs=-1)\n",
    "grid_search_lgbm.fit(X_train, y_train)\n",
    "\n",
    "# Resultados\n",
    "print(\"Best parameters found for LGBMRegressor:\")\n",
    "print(grid_search_lgbm.best_params_)\n",
    "print(\"Best R2 score:\", grid_search_lgbm.best_score_)"
   ]
  },
  {
   "cell_type": "code",
   "execution_count": null,
   "metadata": {},
   "outputs": [],
   "source": [
    "# Evaluar los modelos con los mejores parámetros\n",
    "# Evaluar el mejor modelo SGD\n",
    "best_sgd = grid_search_sgd.best_estimator_\n",
    "y_pred_sgd = best_sgd.predict(X_test)\n",
    "r2_sgd = r2_score(y_test, y_pred_sgd)\n",
    "print(f\"R2 score for best SGD model: {r2_sgd}\")\n",
    "\n",
    "# Evaluar el mejor modelo LGBM\n",
    "best_lgbm = grid_search_lgbm.best_estimator_\n",
    "y_pred_lgbm = best_lgbm.predict(X_test)\n",
    "r2_lgbm = r2_score(y_test, y_pred_lgbm)\n",
    "print(f\"R2 score for best LGBM model: {r2_lgbm}\")"
   ]
  },
  {
   "cell_type": "markdown",
   "metadata": {},
   "source": [
    "## Conclusiones "
   ]
  },
  {
   "cell_type": "code",
   "execution_count": null,
   "metadata": {},
   "outputs": [],
   "source": [
    "# Datos de los modelos SGDL\n",
    "sgdl_alpha = [0.01, 0.01, 0.01, 0.1]\n",
    "sgdl_l1_ratio = [0.1, 1, 10, 0]\n",
    "sgdl_r2_scores = [0.5608, 0.4166, 0.1028, 0.6432]\n",
    "sgdl_times = [36.526, 36.513, 37.398, 9.402]\n",
    "\n",
    "# Datos del modelo GBDT\n",
    "gbdt_r2_scores = [0.8659, 0.8445]\n",
    "gbdt_times = [8.184, 4.416]\n",
    "\n",
    "# Configuración de la figura\n",
    "fig, (ax1, ax2) = plt.subplots(1, 2, figsize=(14, 6))\n",
    "\n",
    "# Gráfico de r2_score\n",
    "ax1.plot(sgdl_alpha, sgdl_r2_scores, marker='o', linestyle='-', color='b', label='SGDL')\n",
    "ax1.axhline(y=max(gbdt_r2_scores), color='r', linestyle='--', label='GBDT Max r2_score')\n",
    "ax1.set_title('Comparación de r2_score')\n",
    "ax1.set_xlabel('Parámetro de Alpha (SGDL)')\n",
    "ax1.set_ylabel('r2_score')\n",
    "ax1.legend()\n",
    "\n",
    "# Gráfico de tiempo de entrenamiento\n",
    "ax2.plot(sgdl_alpha, sgdl_times, marker='o', linestyle='-', color='b', label='SGDL')\n",
    "ax2.axhline(y=min(gbdt_times), color='r', linestyle='--', label='GBDT Min Tiempo')\n",
    "ax2.set_title('Comparación de Tiempo de Entrenamiento')\n",
    "ax2.set_xlabel('Parámetro de Alpha (SGDL)')\n",
    "ax2.set_ylabel('Tiempo en Segundos')\n",
    "ax2.legend()\n",
    "\n",
    "plt.tight_layout()\n",
    "plt.show()"
   ]
  },
  {
   "cell_type": "markdown",
   "metadata": {},
   "source": [
    "En el análisis de los dos modelos, se pueden observar varias diferencias clave en términos de rendimiento y tiempo de entrenamiento:\n",
    "\n",
    "1. Modelo de Regresión Lineal (SGDL):\n",
    "Rendimiento (r2_score):\n",
    "Con alpha=0.01, l1_ratio=0.1: 0.5608\n",
    "Con alpha=0.01, l1_ratio=1: 0.4166\n",
    "Con alpha=0.01, l1_ratio=10: 0.1028\n",
    "Con alpha=0.1, l1_ratio=0: 0.6432 (el mejor de los modelos SGDL)\n",
    "Tiempo de entrenamiento y predicción:\n",
    "Varía de aproximadamente 9.4 a 37.4 segundos.\n",
    "2. Modelo de Gradient Boosting (GBDT) usando LightGBM:\n",
    "Rendimiento (r2_score):\n",
    "En la primera prueba con num_boost_round=500: 0.8659 (mejor r2_score).\n",
    "En la segunda prueba (parámetros ajustados): 0.8445.\n",
    "Tiempo de entrenamiento y predicción:\n",
    "Primera prueba: 8.18 segundos.\n",
    "Segunda prueba: 4.42 segundos.\n",
    "Error cuadrático medio (RMSE):\n",
    "Primera prueba: 1600.38\n",
    "Segunda prueba: 1723.33\n",
    "- Comparación y Conclusiones:\n",
    "\n",
    "Rendimiento: El modelo GBDT con LightGBM supera claramente al modelo SGDL en términos de r2_score, alcanzando un valor mucho más alto (0.8659 frente a 0.6432 en el mejor caso de SGDL). Esto indica que el modelo GBDT tiene una mejor capacidad para explicar la variabilidad de los datos.\n",
    "\n",
    "Tiempo de entrenamiento: El modelo GBDT también se entrena y predice más rápido (alrededor de 4.42 a 8.18 segundos) en comparación con el mejor caso de SGDL, que tomó 9.4 segundos. Además, el rendimiento fue superior a pesar del menor tiempo de cómputo.\n",
    "\n",
    "RMSE: Aunque el RMSE fue ligeramente peor en la segunda prueba de GBDT, el r2_score se mantuvo alto, lo que sugiere que el modelo aún generaliza bien.\n",
    "\n",
    "Conclusión General: \n",
    "El modelo de Gradient Boosting (GBDT) utilizando LightGBM es claramente superior al modelo de regresión lineal SGDL en términos de rendimiento (r2_score) y tiempo de entrenamiento, por lo que sería la opción preferida."
   ]
  },
  {
   "cell_type": "markdown",
   "metadata": {},
   "source": [
    "<div class=\"alert alert-block alert-success\">\n",
    "\n",
    "<b>Comentario del revisor. (Iteración 1)</b> <a class=\"tocSkip\"></a>\n",
    "    \n",
    "    \n",
    "Jorge solo queda felicitarte porque te has destacado de gran forma en el proyecto, has cumplicado con todos los puntos importantes y has hecho agregados perfectos que solo revalidan tu gran capcaidad de código pero también tu gran capacidad de análisis frente a los resultados, felicitaciones!"
   ]
  },
  {
   "cell_type": "markdown",
   "metadata": {},
   "source": [
    "# Lista de control"
   ]
  },
  {
   "cell_type": "markdown",
   "metadata": {},
   "source": [
    "Escribe 'x' para verificar. Luego presiona Shift+Enter"
   ]
  },
  {
   "cell_type": "markdown",
   "metadata": {},
   "source": [
    "- [x]  Jupyter Notebook está abierto\n",
    "- [ ]  El código no tiene errores- [ ]  Las celdas con el código han sido colocadas en orden de ejecución- [ ]  Los datos han sido descargados y preparados- [ ]  Los modelos han sido entrenados\n",
    "- [ ]  Se realizó el análisis de velocidad y calidad de los modelos"
   ]
  },
  {
   "cell_type": "code",
   "execution_count": null,
   "metadata": {},
   "outputs": [],
   "source": []
  }
 ],
 "metadata": {
  "ExecuteTimeLog": [
   {
    "duration": 7010,
    "start_time": "2024-08-30T03:18:43.645Z"
   },
   {
    "duration": 2610,
    "start_time": "2024-08-30T03:20:57.285Z"
   },
   {
    "duration": 1277,
    "start_time": "2024-08-30T03:21:38.783Z"
   },
   {
    "duration": 465,
    "start_time": "2024-08-30T03:22:55.507Z"
   },
   {
    "duration": 93,
    "start_time": "2024-08-30T03:23:10.357Z"
   },
   {
    "duration": 14,
    "start_time": "2024-08-30T03:23:34.174Z"
   },
   {
    "duration": 60,
    "start_time": "2024-08-30T03:24:10.018Z"
   },
   {
    "duration": 4,
    "start_time": "2024-08-30T03:27:33.431Z"
   },
   {
    "duration": 14,
    "start_time": "2024-08-30T03:31:34.387Z"
   },
   {
    "duration": 4,
    "start_time": "2024-08-30T03:32:08.395Z"
   },
   {
    "duration": 63,
    "start_time": "2024-08-30T03:32:26.415Z"
   },
   {
    "duration": 103,
    "start_time": "2024-08-30T03:34:19.692Z"
   },
   {
    "duration": 89,
    "start_time": "2024-08-30T03:36:10.204Z"
   },
   {
    "duration": 38,
    "start_time": "2024-08-30T03:37:35.456Z"
   },
   {
    "duration": 4,
    "start_time": "2024-08-30T03:39:14.361Z"
   },
   {
    "duration": 70,
    "start_time": "2024-08-30T03:39:23.534Z"
   },
   {
    "duration": 446,
    "start_time": "2024-08-30T03:39:24.067Z"
   },
   {
    "duration": 142,
    "start_time": "2024-08-30T03:39:24.516Z"
   },
   {
    "duration": 18,
    "start_time": "2024-08-30T03:39:24.660Z"
   },
   {
    "duration": 74,
    "start_time": "2024-08-30T03:39:24.680Z"
   },
   {
    "duration": 12,
    "start_time": "2024-08-30T03:39:26.318Z"
   },
   {
    "duration": 3,
    "start_time": "2024-08-30T03:39:26.698Z"
   },
   {
    "duration": 94,
    "start_time": "2024-08-30T03:39:27.038Z"
   },
   {
    "duration": 73,
    "start_time": "2024-08-30T03:39:28.192Z"
   },
   {
    "duration": 47,
    "start_time": "2024-08-30T03:39:29.408Z"
   },
   {
    "duration": 359,
    "start_time": "2024-08-30T03:39:48.318Z"
   },
   {
    "duration": 600,
    "start_time": "2024-08-30T03:40:54.437Z"
   },
   {
    "duration": 3,
    "start_time": "2024-08-30T03:42:02.705Z"
   },
   {
    "duration": 3,
    "start_time": "2024-08-30T03:42:17.149Z"
   },
   {
    "duration": 3,
    "start_time": "2024-08-30T03:42:43.482Z"
   },
   {
    "duration": 58,
    "start_time": "2024-08-30T03:42:43.931Z"
   },
   {
    "duration": 523,
    "start_time": "2024-08-30T03:42:44.580Z"
   },
   {
    "duration": 384,
    "start_time": "2024-08-30T03:43:30.643Z"
   },
   {
    "duration": 330,
    "start_time": "2024-08-30T03:44:17.013Z"
   },
   {
    "duration": 61,
    "start_time": "2024-08-30T03:46:43.681Z"
   },
   {
    "duration": 296,
    "start_time": "2024-08-30T03:48:27.474Z"
   },
   {
    "duration": 2,
    "start_time": "2024-08-30T03:49:50.778Z"
   },
   {
    "duration": 138,
    "start_time": "2024-08-30T03:50:21.721Z"
   },
   {
    "duration": 588,
    "start_time": "2024-08-30T03:50:40.254Z"
   },
   {
    "duration": 287,
    "start_time": "2024-08-30T03:50:59.543Z"
   },
   {
    "duration": 62,
    "start_time": "2024-08-30T03:51:00.410Z"
   },
   {
    "duration": 301,
    "start_time": "2024-08-30T03:51:00.878Z"
   },
   {
    "duration": 146,
    "start_time": "2024-08-30T03:51:01.818Z"
   },
   {
    "duration": 622,
    "start_time": "2024-08-30T03:51:02.829Z"
   },
   {
    "duration": 8825,
    "start_time": "2024-08-30T03:59:12.010Z"
   },
   {
    "duration": 108,
    "start_time": "2024-08-30T03:59:25.493Z"
   },
   {
    "duration": 594,
    "start_time": "2024-08-30T03:59:26.198Z"
   },
   {
    "duration": 5,
    "start_time": "2024-08-30T04:35:08.734Z"
   },
   {
    "duration": 34167,
    "start_time": "2024-08-30T04:37:49.550Z"
   },
   {
    "duration": 2,
    "start_time": "2024-08-30T04:39:41.946Z"
   },
   {
    "duration": 3,
    "start_time": "2024-08-30T04:39:55.213Z"
   },
   {
    "duration": 8039,
    "start_time": "2024-08-30T04:40:27.970Z"
   },
   {
    "duration": 5,
    "start_time": "2024-08-30T04:44:08.544Z"
   },
   {
    "duration": 36863,
    "start_time": "2024-08-30T04:46:05.250Z"
   },
   {
    "duration": 47524,
    "start_time": "2024-08-30T04:46:42.115Z"
   },
   {
    "duration": 54066,
    "start_time": "2024-08-30T04:47:29.643Z"
   },
   {
    "duration": 48618,
    "start_time": "2024-08-30T04:48:23.712Z"
   },
   {
    "duration": 37399,
    "start_time": "2024-08-30T04:50:05.528Z"
   },
   {
    "duration": 40282,
    "start_time": "2024-08-30T04:50:42.929Z"
   },
   {
    "duration": 33697,
    "start_time": "2024-08-30T04:51:23.216Z"
   },
   {
    "duration": 9200,
    "start_time": "2024-08-30T04:51:56.919Z"
   },
   {
    "duration": 5,
    "start_time": "2024-08-30T04:52:06.121Z"
   },
   {
    "duration": 0,
    "start_time": "2024-08-30T04:52:06.208Z"
   },
   {
    "duration": 0,
    "start_time": "2024-08-30T04:52:06.212Z"
   },
   {
    "duration": 4560,
    "start_time": "2024-08-30T04:52:42.050Z"
   },
   {
    "duration": 2,
    "start_time": "2024-08-30T04:53:11.479Z"
   },
   {
    "duration": 7927,
    "start_time": "2024-08-30T04:53:12.282Z"
   },
   {
    "duration": 4,
    "start_time": "2024-08-30T04:53:20.211Z"
   },
   {
    "duration": 3,
    "start_time": "2024-08-30T04:53:20.217Z"
   },
   {
    "duration": 3,
    "start_time": "2024-08-30T04:53:20.222Z"
   },
   {
    "duration": 4689,
    "start_time": "2024-08-30T04:53:20.227Z"
   },
   {
    "duration": 1345,
    "start_time": "2024-08-30T04:56:55.988Z"
   },
   {
    "duration": 5,
    "start_time": "2024-08-30T04:56:57.336Z"
   },
   {
    "duration": 462,
    "start_time": "2024-08-30T04:56:57.343Z"
   },
   {
    "duration": 102,
    "start_time": "2024-08-30T04:56:57.810Z"
   },
   {
    "duration": 12,
    "start_time": "2024-08-30T04:56:57.914Z"
   },
   {
    "duration": 93,
    "start_time": "2024-08-30T04:56:57.928Z"
   },
   {
    "duration": 10,
    "start_time": "2024-08-30T04:56:58.512Z"
   },
   {
    "duration": 4,
    "start_time": "2024-08-30T04:56:58.686Z"
   },
   {
    "duration": 77,
    "start_time": "2024-08-30T04:56:58.876Z"
   },
   {
    "duration": 71,
    "start_time": "2024-08-30T04:56:59.246Z"
   },
   {
    "duration": 44,
    "start_time": "2024-08-30T04:56:59.634Z"
   },
   {
    "duration": 349,
    "start_time": "2024-08-30T04:56:59.816Z"
   },
   {
    "duration": 4,
    "start_time": "2024-08-30T04:57:00.185Z"
   },
   {
    "duration": 50,
    "start_time": "2024-08-30T04:57:00.395Z"
   },
   {
    "duration": 334,
    "start_time": "2024-08-30T04:57:00.591Z"
   },
   {
    "duration": 81,
    "start_time": "2024-08-30T04:57:00.967Z"
   },
   {
    "duration": 302,
    "start_time": "2024-08-30T04:57:01.158Z"
   },
   {
    "duration": 159,
    "start_time": "2024-08-30T04:57:01.512Z"
   },
   {
    "duration": 628,
    "start_time": "2024-08-30T04:57:01.694Z"
   },
   {
    "duration": 9420,
    "start_time": "2024-08-30T04:57:02.325Z"
   },
   {
    "duration": 70,
    "start_time": "2024-08-30T04:57:11.749Z"
   },
   {
    "duration": 47616,
    "start_time": "2024-08-30T04:57:11.822Z"
   },
   {
    "duration": 10,
    "start_time": "2024-08-30T04:57:59.508Z"
   },
   {
    "duration": 5,
    "start_time": "2024-08-30T04:57:59.519Z"
   },
   {
    "duration": 283296,
    "start_time": "2024-08-30T04:57:59.526Z"
   },
   {
    "duration": 4,
    "start_time": "2024-08-30T05:02:42.825Z"
   },
   {
    "duration": 34603,
    "start_time": "2024-08-30T05:02:42.830Z"
   },
   {
    "duration": 33908,
    "start_time": "2024-08-30T05:03:17.513Z"
   },
   {
    "duration": 33987,
    "start_time": "2024-08-30T05:03:51.424Z"
   },
   {
    "duration": 8899,
    "start_time": "2024-08-30T05:04:25.417Z"
   },
   {
    "duration": 11,
    "start_time": "2024-08-30T05:04:34.321Z"
   },
   {
    "duration": 8074,
    "start_time": "2024-08-30T05:04:34.335Z"
   },
   {
    "duration": 5,
    "start_time": "2024-08-30T05:04:42.411Z"
   },
   {
    "duration": 3,
    "start_time": "2024-08-30T05:04:42.417Z"
   },
   {
    "duration": 3,
    "start_time": "2024-08-30T05:04:42.422Z"
   },
   {
    "duration": 4595,
    "start_time": "2024-08-30T05:04:42.426Z"
   },
   {
    "duration": 8514,
    "start_time": "2024-08-31T22:34:33.380Z"
   },
   {
    "duration": 1426,
    "start_time": "2024-08-31T22:51:08.888Z"
   },
   {
    "duration": 4,
    "start_time": "2024-08-31T22:51:10.316Z"
   },
   {
    "duration": 443,
    "start_time": "2024-08-31T22:51:10.321Z"
   },
   {
    "duration": 113,
    "start_time": "2024-08-31T22:51:10.772Z"
   },
   {
    "duration": 11,
    "start_time": "2024-08-31T22:51:10.888Z"
   },
   {
    "duration": 73,
    "start_time": "2024-08-31T22:51:10.901Z"
   },
   {
    "duration": 13,
    "start_time": "2024-08-31T22:51:10.976Z"
   },
   {
    "duration": 4,
    "start_time": "2024-08-31T22:51:10.991Z"
   },
   {
    "duration": 84,
    "start_time": "2024-08-31T22:51:10.997Z"
   },
   {
    "duration": 91,
    "start_time": "2024-08-31T22:51:11.083Z"
   },
   {
    "duration": 37,
    "start_time": "2024-08-31T22:51:11.177Z"
   },
   {
    "duration": 462,
    "start_time": "2024-08-31T22:51:11.216Z"
   },
   {
    "duration": 5,
    "start_time": "2024-08-31T22:51:11.680Z"
   },
   {
    "duration": 51,
    "start_time": "2024-08-31T22:51:11.687Z"
   },
   {
    "duration": 330,
    "start_time": "2024-08-31T22:51:11.750Z"
   },
   {
    "duration": 71,
    "start_time": "2024-08-31T22:51:12.083Z"
   },
   {
    "duration": 339,
    "start_time": "2024-08-31T22:51:12.167Z"
   },
   {
    "duration": 167,
    "start_time": "2024-08-31T22:51:12.508Z"
   },
   {
    "duration": 712,
    "start_time": "2024-08-31T22:51:12.677Z"
   },
   {
    "duration": 15200,
    "start_time": "2024-08-31T22:51:13.392Z"
   },
   {
    "duration": 52,
    "start_time": "2024-08-31T22:51:28.594Z"
   },
   {
    "duration": 139430,
    "start_time": "2024-08-31T22:51:28.652Z"
   },
   {
    "duration": 8,
    "start_time": "2024-08-31T22:53:48.083Z"
   },
   {
    "duration": 70,
    "start_time": "2024-08-31T22:53:48.092Z"
   },
   {
    "duration": 25729,
    "start_time": "2024-08-31T22:53:48.163Z"
   },
   {
    "duration": 61,
    "start_time": "2024-08-31T22:54:13.893Z"
   },
   {
    "duration": 133204,
    "start_time": "2024-08-31T22:54:13.962Z"
   },
   {
    "duration": 137203,
    "start_time": "2024-08-31T22:56:27.167Z"
   },
   {
    "duration": 139603,
    "start_time": "2024-08-31T22:58:44.375Z"
   },
   {
    "duration": 28904,
    "start_time": "2024-08-31T23:01:03.983Z"
   },
   {
    "duration": 59,
    "start_time": "2024-08-31T23:01:32.889Z"
   },
   {
    "duration": 28699,
    "start_time": "2024-08-31T23:01:32.961Z"
   },
   {
    "duration": 11,
    "start_time": "2024-08-31T23:02:01.666Z"
   },
   {
    "duration": 3,
    "start_time": "2024-08-31T23:02:01.679Z"
   },
   {
    "duration": 2,
    "start_time": "2024-08-31T23:02:01.684Z"
   },
   {
    "duration": 13586,
    "start_time": "2024-08-31T23:02:01.688Z"
   },
   {
    "duration": 1399,
    "start_time": "2024-08-31T23:15:48.873Z"
   },
   {
    "duration": 7,
    "start_time": "2024-08-31T23:15:51.368Z"
   },
   {
    "duration": 413,
    "start_time": "2024-08-31T23:15:53.081Z"
   },
   {
    "duration": 99,
    "start_time": "2024-08-31T23:15:53.808Z"
   },
   {
    "duration": 11,
    "start_time": "2024-08-31T23:15:54.824Z"
   },
   {
    "duration": 63,
    "start_time": "2024-08-31T23:15:56.003Z"
   },
   {
    "duration": 10,
    "start_time": "2024-08-31T23:16:01.671Z"
   },
   {
    "duration": 3,
    "start_time": "2024-08-31T23:16:02.367Z"
   },
   {
    "duration": 81,
    "start_time": "2024-08-31T23:16:03.081Z"
   },
   {
    "duration": 85,
    "start_time": "2024-08-31T23:16:04.304Z"
   },
   {
    "duration": 54,
    "start_time": "2024-08-31T23:16:05.708Z"
   },
   {
    "duration": 344,
    "start_time": "2024-08-31T23:16:06.571Z"
   },
   {
    "duration": 4,
    "start_time": "2024-08-31T23:16:08.304Z"
   },
   {
    "duration": 60,
    "start_time": "2024-08-31T23:16:09.095Z"
   },
   {
    "duration": 325,
    "start_time": "2024-08-31T23:16:10.071Z"
   },
   {
    "duration": 77,
    "start_time": "2024-08-31T23:16:11.798Z"
   },
   {
    "duration": 330,
    "start_time": "2024-08-31T23:16:12.493Z"
   },
   {
    "duration": 176,
    "start_time": "2024-08-31T23:16:22.538Z"
   },
   {
    "duration": 672,
    "start_time": "2024-08-31T23:16:25.058Z"
   },
   {
    "duration": 15537,
    "start_time": "2024-08-31T23:16:28.323Z"
   },
   {
    "duration": 9427,
    "start_time": "2024-09-01T00:37:43.416Z"
   },
   {
    "duration": 5,
    "start_time": "2024-09-01T00:37:57.830Z"
   },
   {
    "duration": 36738,
    "start_time": "2024-09-01T00:37:59.310Z"
   },
   {
    "duration": 3,
    "start_time": "2024-09-01T00:38:39.331Z"
   },
   {
    "duration": 3,
    "start_time": "2024-09-01T00:38:40.216Z"
   },
   {
    "duration": 8011,
    "start_time": "2024-09-01T00:38:42.763Z"
   },
   {
    "duration": 4,
    "start_time": "2024-09-01T00:38:57.380Z"
   },
   {
    "duration": 36605,
    "start_time": "2024-09-01T00:39:00.138Z"
   },
   {
    "duration": 36518,
    "start_time": "2024-09-01T00:39:36.745Z"
   },
   {
    "duration": 37477,
    "start_time": "2024-09-01T00:40:13.265Z"
   },
   {
    "duration": 9407,
    "start_time": "2024-09-01T00:40:50.747Z"
   },
   {
    "duration": 3,
    "start_time": "2024-09-01T00:41:24.434Z"
   },
   {
    "duration": 8187,
    "start_time": "2024-09-01T00:41:25.160Z"
   },
   {
    "duration": 4,
    "start_time": "2024-09-01T00:41:37.875Z"
   },
   {
    "duration": 3,
    "start_time": "2024-09-01T00:41:40.438Z"
   },
   {
    "duration": 3,
    "start_time": "2024-09-01T00:41:41.808Z"
   },
   {
    "duration": 5107,
    "start_time": "2024-09-01T00:41:43.037Z"
   },
   {
    "duration": 511,
    "start_time": "2024-09-01T00:47:35.228Z"
   },
   {
    "duration": 192,
    "start_time": "2024-09-03T03:34:28.347Z"
   },
   {
    "duration": 3,
    "start_time": "2024-09-03T03:35:24.181Z"
   },
   {
    "duration": 8075,
    "start_time": "2024-09-03T03:37:07.131Z"
   },
   {
    "duration": 3235,
    "start_time": "2024-09-03T03:37:15.209Z"
   },
   {
    "duration": 556,
    "start_time": "2024-09-03T03:37:18.446Z"
   },
   {
    "duration": 120,
    "start_time": "2024-09-03T03:37:19.004Z"
   },
   {
    "duration": 27,
    "start_time": "2024-09-03T03:37:19.127Z"
   },
   {
    "duration": 64,
    "start_time": "2024-09-03T03:37:19.156Z"
   },
   {
    "duration": 25,
    "start_time": "2024-09-03T03:37:19.222Z"
   },
   {
    "duration": 3,
    "start_time": "2024-09-03T03:37:19.249Z"
   },
   {
    "duration": 79,
    "start_time": "2024-09-03T03:37:19.253Z"
   },
   {
    "duration": 107,
    "start_time": "2024-09-03T03:37:19.337Z"
   },
   {
    "duration": 38,
    "start_time": "2024-09-03T03:37:19.445Z"
   },
   {
    "duration": 493,
    "start_time": "2024-09-03T03:37:19.485Z"
   },
   {
    "duration": 4,
    "start_time": "2024-09-03T03:37:19.980Z"
   },
   {
    "duration": 84,
    "start_time": "2024-09-03T03:37:19.986Z"
   },
   {
    "duration": 379,
    "start_time": "2024-09-03T03:37:20.071Z"
   },
   {
    "duration": 93,
    "start_time": "2024-09-03T03:37:20.451Z"
   },
   {
    "duration": 361,
    "start_time": "2024-09-03T03:37:20.546Z"
   },
   {
    "duration": 175,
    "start_time": "2024-09-03T03:37:20.909Z"
   },
   {
    "duration": 725,
    "start_time": "2024-09-03T03:37:21.086Z"
   },
   {
    "duration": 11833,
    "start_time": "2024-09-03T03:37:21.814Z"
   },
   {
    "duration": 63,
    "start_time": "2024-09-03T03:37:33.651Z"
   },
   {
    "duration": 70215,
    "start_time": "2024-09-03T03:37:33.717Z"
   },
   {
    "duration": 7,
    "start_time": "2024-09-03T03:38:43.934Z"
   },
   {
    "duration": 66,
    "start_time": "2024-09-03T03:38:43.944Z"
   },
   {
    "duration": 16389,
    "start_time": "2024-09-03T03:38:44.023Z"
   },
   {
    "duration": 13,
    "start_time": "2024-09-03T03:39:00.414Z"
   },
   {
    "duration": 71779,
    "start_time": "2024-09-03T03:39:00.434Z"
   },
   {
    "duration": 73111,
    "start_time": "2024-09-03T03:40:12.224Z"
   },
   {
    "duration": 71892,
    "start_time": "2024-09-03T03:41:25.340Z"
   },
   {
    "duration": 14888,
    "start_time": "2024-09-03T03:42:37.234Z"
   },
   {
    "duration": 7,
    "start_time": "2024-09-03T03:42:52.124Z"
   },
   {
    "duration": 17626,
    "start_time": "2024-09-03T03:42:52.133Z"
   },
   {
    "duration": 53,
    "start_time": "2024-09-03T03:43:09.761Z"
   },
   {
    "duration": 3,
    "start_time": "2024-09-03T03:43:09.817Z"
   },
   {
    "duration": 7,
    "start_time": "2024-09-03T03:43:09.823Z"
   },
   {
    "duration": 8102,
    "start_time": "2024-09-03T03:43:09.831Z"
   }
  ],
  "kernelspec": {
   "display_name": "Python 3 (ipykernel)",
   "language": "python",
   "name": "python3"
  },
  "language_info": {
   "codemirror_mode": {
    "name": "ipython",
    "version": 3
   },
   "file_extension": ".py",
   "mimetype": "text/x-python",
   "name": "python",
   "nbconvert_exporter": "python",
   "pygments_lexer": "ipython3",
   "version": "3.9.19"
  },
  "toc": {
   "base_numbering": 1,
   "nav_menu": {},
   "number_sections": true,
   "sideBar": true,
   "skip_h1_title": true,
   "title_cell": "Table of Contents",
   "title_sidebar": "Contents",
   "toc_cell": false,
   "toc_position": {
    "height": "calc(100% - 180px)",
    "left": "10px",
    "top": "150px",
    "width": "165px"
   },
   "toc_section_display": true,
   "toc_window_display": true
  }
 },
 "nbformat": 4,
 "nbformat_minor": 2
}
